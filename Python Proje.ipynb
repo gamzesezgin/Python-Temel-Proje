{
 "cells": [
  {
   "cell_type": "markdown",
   "id": "a55676f3",
   "metadata": {},
   "source": [
    "Bir listeyi düzleştiren (flatten) fonksiyon yazın. Elemanları birden çok katmanlı listelerden ([[3],2] gibi) oluşabileceği gibi, non-scalar verilerden de oluşabilir. "
   ]
  },
  {
   "cell_type": "code",
   "execution_count": 81,
   "id": "678eb65e",
   "metadata": {},
   "outputs": [
    {
     "name": "stdout",
     "output_type": "stream",
     "text": [
      "[1, 'a', 'cat', 2, 3, 'dog', 4, 5]\n"
     ]
    }
   ],
   "source": [
    "l = [[1, 'a', ['cat'], 2], [[[3]], 'dog'], 4, 5]\n",
    "l1 = []\n",
    "\n",
    "def flatten(l):\n",
    "\n",
    "    for i in l:\n",
    "        if isinstance(i, list):\n",
    "            flatten(i)\n",
    "        else:\n",
    "            l1.append(i)\n",
    "\n",
    "flatten(l)\n",
    "print(l1)\n"
   ]
  },
  {
   "cell_type": "markdown",
   "id": "a96081f1",
   "metadata": {},
   "source": [
    "Verilen listenin içindeki elemanları tersine döndüren bir fonksiyon yazın. Eğer listenin içindeki elemanlar da liste içeriyorsa onların elemanlarını da tersine döndürün."
   ]
  },
  {
   "cell_type": "code",
   "execution_count": 70,
   "id": "a8b6f54c",
   "metadata": {},
   "outputs": [],
   "source": [
    "l = [[1, 2], [3, 4], [5, 6, 7]]\n",
    "\n",
    "def new_list(l):\n",
    "    for i in l:\n",
    "        i.reverse()\n",
    "    l.reverse()\n",
    "    return(l)"
   ]
  },
  {
   "cell_type": "code",
   "execution_count": 71,
   "id": "289345ac",
   "metadata": {},
   "outputs": [
    {
     "data": {
      "text/plain": [
       "[[1, 2], [3, 4], [5, 6, 7]]"
      ]
     },
     "execution_count": 71,
     "metadata": {},
     "output_type": "execute_result"
    }
   ],
   "source": [
    "l"
   ]
  },
  {
   "cell_type": "code",
   "execution_count": 72,
   "id": "2f7ab1bf",
   "metadata": {},
   "outputs": [
    {
     "data": {
      "text/plain": [
       "[[7, 6, 5], [4, 3], [2, 1]]"
      ]
     },
     "execution_count": 72,
     "metadata": {},
     "output_type": "execute_result"
    }
   ],
   "source": [
    "new_list(l)"
   ]
  }
 ],
 "metadata": {
  "kernelspec": {
   "display_name": "Python 3 (ipykernel)",
   "language": "python",
   "name": "python3"
  },
  "language_info": {
   "codemirror_mode": {
    "name": "ipython",
    "version": 3
   },
   "file_extension": ".py",
   "mimetype": "text/x-python",
   "name": "python",
   "nbconvert_exporter": "python",
   "pygments_lexer": "ipython3",
   "version": "3.10.7"
  }
 },
 "nbformat": 4,
 "nbformat_minor": 5
}
